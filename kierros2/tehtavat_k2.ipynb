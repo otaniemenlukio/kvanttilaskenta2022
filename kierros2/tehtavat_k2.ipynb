{
 "cells": [
  {
   "cell_type": "markdown",
   "metadata": {},
   "source": [
    "\n",
    "# Laskuharjoitukset, kierros 2\n",
    "\n",
    "Palautus 4.3.2022. Jos se on sinun hiihtolomaviikko, voit palauttaa myöhemmin.\n",
    "\n",
    "$$\\renewcommand{\\ket}[1]{\\left|{#1}\\right\\rangle}$$\n",
    "$$\\renewcommand{\\bra}[1]{\\left\\langle{#1}\\right|}$$\n",
    "\n",
    "Kierroksen kaksi tehtävissä eräänä tavoitteena on tutkia miten erilaisten kvanttiporttien operaatiot vaikuttavat kubitin kvanttitilaa esittävään tilavektoriin Blochin pallolla. Sen takia on tärkeää tutkia tehtävien ratkaisuja myös <a href=\"https://bloch.ollpu.fi/\" target=\"_blank\">Blochin palloa kuvaavan simulaation avulla.</a>. \n",
    "\n",
    "Osassa tehtäviä voit kirjoittaa sanallisen vastauksen, jossa kerrot vastauksen esitettyyn kysymykseen. \n",
    "\n",
    "## Kierroksen 2 oppimateriaaleja\n",
    "\n",
    "Katso seuraavat videot, joissa havainnollistetaan kvanttilaskennassa käytettyä bra ja ket-vektoriesitystä.\n",
    "\n",
    "\n",
    "\n",
    "Katso <a href =\"https://youtu.be/m77_muSPrs0 \" target=\"_blank\">Youtube-video todennäköisyyslaskennan matematiikasta</a>\n",
    "\n",
    "\n",
    "Katso <a href =\"https://youtu.be/Y5WRv_9757A\" target=\"_blank\"> kvanttitilojen matemaattiikka ja kahden tilojen superpositio eli yhdistelmätila</a>\n",
    "\n",
    "\n",
    "\n",
    "Lisätehtävänä hiihtolomalla on myös lukea kierroksen 1 tehtävänä olleen artikkelin <a href=\"https://drive.google.com/file/d/1O9ZhyggdZhNQS9JIg7TlcIls_mdM4zAi/view?usp=sharing\" target=\"_blank\">\n",
    " Skrolli-lehden artikkeli \"Kvantit horisontissa\"</a>. Näin ymmärryksesi kvanttitietokoneiden toiminnasta ja sovelluksista kasvaa.\n",
    "\n",
    "## Tehtävä 1: yhden kubitin $X$-portti ja 180 asteen kierto Blochin pallolla X-akselin ympäri\n",
    "\n",
    "Kvanttitietokoneen muistissa tieto esitetään kubittien avulla. Kertauksena viime kierrokselta, kubitin perustilat ovat $\\ket 0$ ja $\\ket{1}$, ja ne esitetään pystyvektoreina\n",
    "\n",
    "$$\n",
    "\\begin{align}\n",
    "\\ket 0 &= \\begin{pmatrix} 1 \\\\ 0 \\end{pmatrix} \\\\\n",
    "\\ket 1 &= \\begin{pmatrix} 0 \\\\ 1 \\end{pmatrix}.\n",
    "\\end{align}\n",
    "$$\n",
    "\n",
    "$X$-portin matriisiesitys on seuraava:\n",
    "\n",
    "$$\n",
    "X=\\begin{pmatrix} 0 & 1 \\\\ 1 & 0 \\end{pmatrix}\n",
    "$$\n",
    "\n",
    "Kierroksella 1 laskimme, että kun $X$-portti operoi kubittiin, niin kubitin tila muuttuu käänteiseksi (bit-flip gate), eli\n",
    "\n",
    "$$\n",
    "X\\ket 0 = \\ket 1 \\\\\n",
    "X\\ket 1 = \\ket 0\n",
    "$$\n",
    "\n",
    "\n",
    "\n",
    "a) Osoita laskemalla matriisiesitystä (pythonin numpy tai nspire) käyttäen, että\n",
    "\n",
    "$$\n",
    "\\begin{align}\n",
    "XX\\ket 0 &= \\ket 0 \\text{ja} \\\\\n",
    "XX\\ket 1 &= \\ket 1\n",
    "\\end{align}\n",
    "$$\n",
    "\n",
    "Huomaa, että matriisien kertolasku ei ole vaihdannainen, eli matriisien paikkaa tulossa ei voi vaihtaa (toisin kuin esim. reaalilukujen paikkaa voi):\n",
    "\n",
    "$$\n",
    "XY \\ne YX\n",
    "$$\n",
    "\n",
    "Matriisien kertolasku on kuitenkin liitännäinen (toisin kuin esim. vektorien ristitulo):\n",
    "\n",
    "$$\n",
    "X(Y\\ket 0) = (XY)\\ket 0\n",
    "$$\n",
    "\n",
    "> Tästä syystä matriisien kertolaskussa ei käytetä sulkeita, koska laskujärjestyksellä ei ole väliä. Muistathan, että vektoritkin ovat matriiseja.\n",
    "\n",
    "Voit tehdä tehtävän 1 myös Geogebralla, jos et halua tehdä python-ohjelmointia. Ohjeita Geogebran vektori- ja matriisiesityksen tekemiseen löydät kierroksen 1 laskuharjoitusvideosta.\n",
    "\n",
    "<a href=\"https://youtu.be/b4ZPvkLIt08?t=2424\" target=\"_blank\">Laskuharjoitus 1, Geogebran käyttö</a>\n",
    "\n",
    "\n",
    "\n"
   ]
  },
  {
   "cell_type": "code",
   "execution_count": null,
   "metadata": {},
   "outputs": [],
   "source": [
    "# laske a-kohdan tulot tähän pythonilla, katso esimerkkiä kierroksen 1 ratkaisuista. \n",
    "# matriisin ja pystyvektorin tulossa kertomerkki on @\n",
    "import numpy as np\n",
    "\n",
    "X = np.matrix([[0, 1],[1, 0]])\n",
    "\n",
    "# määritellään pystyvektorina kubitin kvanttitila 0:\n",
    "q0 = np.matrix([[1],[0]])\n",
    "\n",
    "# määritellään pystyvektorina kubitin kvanttitila 1:\n",
    "q1 = np.matrix([[0],[1]])\n",
    "\n",
    "# käytä print() komentoa vastauksen tulostamiseen\n",
    "\n"
   ]
  },
  {
   "cell_type": "markdown",
   "metadata": {},
   "source": [
    "b) Osoita laskemalla matriisien tulo, että $XX=I$, missä $I$ on yksikkömatriisi.\n",
    "\n",
    "$$\n",
    "I=\\pmatrix {1 & 0 \\\\ 0 & 1}\n",
    "$$\n",
    "\n",
    "\n",
    "Tämä tarkoittaa, että $X$ on itsensä käänteismatriisi.\n",
    "\n",
    "<a href=\"https://bloch.ollpu.fi/\" target=\"_blank\">Blochin pallolla</a> tulos $XX=I$ tarkoittaa, että tilavektoria kierretään kaksi kertaa X-akselin ympäri, jolloin palataan takaisin alkuperäiseen tilaan. Yksikkömatriisi eli identtinen matriisi $I$ on siis kuvaus, joka ei muuta kubitin tilaa."
   ]
  },
  {
   "cell_type": "code",
   "execution_count": null,
   "metadata": {},
   "outputs": [],
   "source": [
    "# Laske b-kohta tähän pythonilla\n",
    "X = np.matrix([[0, 1],[1, 0]])\n",
    "\n"
   ]
  },
  {
   "cell_type": "markdown",
   "metadata": {},
   "source": [
    "Johdanto c-osaan 180 asteen kierto X-akselin ympäri: Seuraavassa esimerkissä luodaan Qiskitiä käyttäen kvanttipiiri `circuit`, jossa on yksi kubitti, jota operoidaan $X$-portilla."
   ]
  },
  {
   "cell_type": "code",
   "execution_count": null,
   "metadata": {},
   "outputs": [],
   "source": [
    "# Otetaan qiskit-kirjasto käyttöön\n",
    "from qiskit import *\n",
    "from qiskit.visualization import plot_bloch_multivector\n",
    "\n",
    "\n",
    "# Luodaan kvanttipiiri muuttujaan circ, jossa on yksi kubitti (diagrammissa q).\n",
    "circuit = QuantumCircuit(1) # kubitin alkutila on |0>\n",
    "\n",
    "# Piirretään qubitin kvanttitila blochin pallolle\n",
    "backend = Aer.get_backend('statevector_simulator')\n",
    "result = execute(circuit,backend).result()\n",
    "out_state = result.get_statevector()\n",
    "plot_bloch_multivector(out_state)"
   ]
  },
  {
   "cell_type": "code",
   "execution_count": null,
   "metadata": {},
   "outputs": [],
   "source": [
    "# Operoidaan kubittia 0, eli piirin ainoaa kubittia X-portilla.\n",
    "circuit.x(0)\n",
    "\n",
    "# Piirretään seuraavaksi luotu piiri. Argumentti output=\"mpl\" kertoo, että piirto tapahtuu graafisesti.\n",
    "# Koodilohkon viimeisen lausekkeen tulos näkyy aina \"out\"-kohdassa.\n",
    "circuit.draw(output=\"mpl\")"
   ]
  },
  {
   "cell_type": "code",
   "execution_count": null,
   "metadata": {},
   "outputs": [],
   "source": [
    "# Piirretään kubitin kvanttitila blochin pallolle uudestaan X portilla operoimisen jälkeen\n",
    "result = execute(circuit,backend).result()\n",
    "out_state = result.get_statevector()\n",
    "plot_bloch_multivector(out_state)"
   ]
  },
  {
   "cell_type": "markdown",
   "metadata": {},
   "source": [
    "Vertaa Blochin pallolle piirrettyjä tilavektoreita ennen ja jälkeen $X$-portin operaatiota:\n",
    "$X$-portilla operointi kvanttitilaan $\\ket 0$ vastaa tilavektorin kiertoa $180^\\circ$ (eli $\\pi$ radiaania) X-akselin ympäri. Voit kokeilla <a href=\"https://bloch.ollpu.fi/\" target=\"_blank\">Blochin pallolla</a>."
   ]
  },
  {
   "cell_type": "markdown",
   "metadata": {},
   "source": [
    "c) Kirjoita alle yllä olevan esimerkin mukaisesti Python-koodi, joka luo kvanttipiirin, jossa on yksi kubitti alkutilassa $\\ket 1$. Piirrä alkutilan tilavektori Blochin pallolle. Sen jälkeen suorita alkutilaan $\\ket 1$ yksi $X$-operaatio ja piirrä lopputila Blochin pallolle. Ohje: Alkutilan $\\ket 1$ voit määrittää pythonin metodilla `.initialize(initial_state,0)`, missä `initial_state = [0,1]`. Malli on kierroksen 1 ratkaisuista."
   ]
  },
  {
   "cell_type": "code",
   "execution_count": null,
   "metadata": {},
   "outputs": [],
   "source": [
    "# Kirjoita c-kohdan koodisi tähän\n",
    "\n"
   ]
  },
  {
   "cell_type": "markdown",
   "metadata": {},
   "source": [
    "## Tehtävä 2: yhden kubitin $Y$- ja $Z$-portit ja kierrot 180 astetta Y-akselin ja Z-akselin ympäri\n",
    "\n",
    "$Y$-portti vastaa kubitin tilavektorin kiertoa Blochin pallolla $180^\\circ$ Y-akselin ympäri. $Y$-portin matriisiesitys on seuraava:\n",
    "\n",
    "$$\n",
    "Y=\\pmatrix {0 & -i \\\\ i & 0}\n",
    "$$\n",
    "\n",
    "Merkintä $i$ on kompleksilukuihin liittyvä imaginaariyksikkö, jolle on voimassa $i^2 = -1$. \n",
    "<a href=\"http://math.tkk.fi/opetus/p3/04/L/L1printit.pdf\" target=\"_blank\">Lisätietoa kompleksiluvuista.</a>\n",
    "\n",
    "Vastaavasti $Z$-portti vastaa kubitin tilavektorin kiertoa Blochin pallon Z-akselin ympäri $180^\\circ$. $Z$-portin matriisiesitys on seuraava:\n",
    "\n",
    "$$\n",
    "Z=\\pmatrix {1 & 0 \\\\ 0 & -1}\n",
    "$$\n",
    "\n",
    "a) Tutki <a href=\"https://bloch.ollpu.fi/\" target=\"_blank\">havainnollistavan simulaation</a> avulla miten alkutilassa $\\ket 0$ oleva tilavektori muuttuu $X$-, $Y$- ja $Z$-porttien vaikutuksesta ja pyörii Blochin pallolla akselien ympäri.\n",
    "\n",
    "b) Voit ratkaista ohjelmoimalla, tai a-kohdan simulaation avulla: Jos kubitin alkutila on $\\ket 0$, mikä on kubitin lopputila seuraavien porttien operaatioiden eli kiertojen jälkeen? Kiinnitä huomiota minkä akselin ympäri portti kiertää kubittia, ja vaikuttaako kyseinen kierto kubitin tilaan?\n",
    "![kubit_xyz.png](images/kubit_xyz.png)\n",
    "\n",
    "c) Tutustu simulaation avulla myös Hadamard-porttiin eli $H$-porttiin, joka on 180 asteen kierto xz-tason lävistäjän ympäri!\n"
   ]
  },
  {
   "cell_type": "code",
   "execution_count": null,
   "metadata": {},
   "outputs": [],
   "source": [
    "# Tässä voit koodin avulla tutkia tilavektoria Blochin pallolla. \n",
    "#Alustetaan kvanttipiiri qc :n yksi kubitti alkutilaan |0>\n",
    "# Muista aina alustaa piiri uudestaan, jos kokeilet alla eri portteja\n",
    "qc = QuantumCircuit(1)\n",
    "backend = Aer.get_backend('statevector_simulator')\n",
    "result = execute(qc,backend).result()\n",
    "out_state = result.get_statevector()\n",
    "plot_bloch_multivector(out_state)"
   ]
  },
  {
   "cell_type": "code",
   "execution_count": null,
   "metadata": {},
   "outputs": [],
   "source": [
    "# Tässä voit testailla miten eri portit vaikuttavat tilavektoriin. Muista aina suorittaa kvanttipiiri \n",
    "# suorittamalla yläpuolinen lohko, jotta kvanttipiiri ja kubitti nollaantuu\n",
    "#qc.x(0)\n",
    "#qc.h(0)\n",
    "#qc.z(0)\n",
    "#qc.y(0)\n",
    "\n",
    "backend = Aer.get_backend('statevector_simulator')\n",
    "result = execute(qc,backend).result()\n",
    "out_state = result.get_statevector()\n",
    "plot_bloch_multivector(out_state)"
   ]
  },
  {
   "cell_type": "markdown",
   "metadata": {},
   "source": [
    "## Tehtävä 3\n",
    "\n",
    "Hadamard eli $H$-portti muuttaa kubitin tilat $\\ket 0$ ja $\\ket 1$ superpositioon seuraavasti:\n",
    "\n",
    "$$\n",
    "H\\ket 0 = \\frac{1}{\\sqrt 2} (\\ket 0 +  \\ket 1) = \\ket +   \\\\\n",
    "H\\ket 1 = \\frac{1}{\\sqrt 2} (\\ket 0 -  \\ket 1) = \\ket -\n",
    "$$\n",
    "\n",
    "Huomaa, että näitä kyseisiä tiloja merkitään välillä myös $\\ket +$ ja $\\ket -$.\n",
    "\n",
    "$H$-portin matriisiesitys on seuraava:\n",
    "\n",
    "$$\n",
    "H = \\frac{1}{\\sqrt 2} \\pmatrix {1 & 1 \\\\ 1 & -1}\n",
    "$$\n",
    "\n",
    "\n",
    "a) Laske matriisiesitystä (numpy pythonilla) käyttäen tai Geogebralla, että\n",
    "\n",
    "$$\n",
    "\\begin{align}\n",
    "H\\ket 0 &= \\ket + \\text{ja} \\\\\n",
    "H\\ket 1 &= \\ket -.\n",
    "\\end{align}\n",
    "$$\n",
    "\n",
    "\n",
    "Eli muodosta uudet kantavektorit $\\ket +$ ja $\\ket -$ kertomalla $H$-matriisilla alkuperäiset kantavektorit $\\ket 0$ ja $\\ket 1$ :\n",
    "\n",
    "$$\n",
    "\\ket + = \\frac{1}{\\sqrt 2} (\\ket 0 +  \\ket 1) = \\frac{1}{\\sqrt 2} \\pmatrix {1  \\\\ 1} \\approx \\pmatrix {0{,}707 \\\\ 0{,}707} \\\\\n",
    "\\ket - = \\frac{1}{\\sqrt 2} (\\ket 0 -  \\ket 1) = \\frac{1}{\\sqrt 2} \\pmatrix {1  \\\\ -1 } \\approx \\pmatrix {0{,}707 \\\\ -0{,}707}\n",
    "$$\n",
    "\n",
    "Kantavektoreista lisää alla."
   ]
  },
  {
   "cell_type": "code",
   "execution_count": null,
   "metadata": {},
   "outputs": [],
   "source": [
    "# a-kohta pythonilla tähän, arvot voi ilmoittaa float-tyyppisinä eli liukulukuina\n",
    "import numpy as np\n",
    "from math import sqrt\n",
    "\n",
    "H =  1/sqrt(2)*np.matrix([[1, 1],[1, -1]])\n",
    "\n",
    "# määritellään pystyvektorina kubitin kvanttitila |0⟩:\n",
    "q0 = np.matrix([[1],[0]])\n",
    "\n",
    "# määritellään pystyvektorina kubitin kvanttitila |1⟩:\n",
    "q1 = np.matrix([[0],[1]])\n",
    "\n",
    "# numpyn matriiseilla (np.matrix) *-operaattori on sama kuin @-operaattori\n",
    "# muodosta kantavektorit |+⟩ ja |−⟩ kertomalla 𝐻-matriisilla alkuperäiset kantavektorit |0⟩ ja |1⟩:\n",
    "\n"
   ]
  },
  {
   "cell_type": "markdown",
   "metadata": {},
   "source": [
    "b) Ratkaise ohjelmoimmalla tai tutki <a href=\"https://bloch.ollpu.fi/\" target=\"_blank\">havainnollistavan simulaation</a> avulla: Jos yhden kubitin kvanttipiriissä kubitin alkutila on $\\ket 0$, niin mikä on kubitin lopputila seuraavien operaatioiden eli kiertojen jälkeen $HZH$?\n",
    "\n",
    "> Tässä vaiheessa on hyvä huomata matriisien kuvausjärjestys: Jos kubittiin $\\ket 0$\n",
    "> operoidaan ensiksi portilla $X$ ja sitten portilla $H$, pitää matriisien järjestys\n",
    "> termissä kääntää takaperin oikean lopputilan saamiseksi:\n",
    ">\n",
    "> $$\n",
    "\\begin{aligned}\n",
    "\\ket q &= HX\\ket 0 \\\\\n",
    "       &= \\ket -\n",
    "\\end{aligned}\n",
    "$$\n",
    "\n",
    "c) Millä yhdellä portilla operaatio $HZH$ voidaan korvata?\n",
    "\n",
    "\n",
    "d) Osoita laskemalla pythonilla matriisien tulo, että $HH=I$, missä $I$ on yksikkömatriisi. Tämä tarkoittaa jälleen, että $H$ on itsensä käänteismatriisi. Kaksi peräkkäistä $H$-portin operaatiota kiertää kubitin tilavektorin takaisin alkuperäiseen tilaan.\n",
    "\n",
    "e) vapaaehtoinen lisätehtävä: Miten $Y$-portti voidaan esittää porttien $X$,$Z$ $H$ porttien kombinaationa eli yhdistelmänä?\n",
    "\n",
    "<a href=\"https://youtu.be/x6gOp_o7Bi8\" target=\"_blank\">Lisätietoa: ohjevideo H-portin toiminnasta</a>\n",
    "\n",
    "\n"
   ]
  },
  {
   "cell_type": "code",
   "execution_count": null,
   "metadata": {},
   "outputs": [],
   "source": [
    "# ohjelmoi b-kohta tähän\n",
    "\n"
   ]
  },
  {
   "cell_type": "markdown",
   "metadata": {},
   "source": [
    "Voit kirjoittaa tähän c-kohdan vastauksen tuplaklikkaamalla tekstistä:\n",
    "\n",
    "c)"
   ]
  },
  {
   "cell_type": "code",
   "execution_count": null,
   "metadata": {},
   "outputs": [],
   "source": [
    "# ohjelmoi d-kohta tähän\n",
    "H =  1/sqrt(2)*np.matrix([[1, 1],[1, -1]])\n",
    "\n"
   ]
  },
  {
   "cell_type": "code",
   "execution_count": null,
   "metadata": {},
   "outputs": [],
   "source": [
    "# vapaaehtoinen e-kohta\n",
    "\n"
   ]
  },
  {
   "cell_type": "markdown",
   "metadata": {},
   "source": [
    "## Matematiikan käsitteitä ja termejä: Matriisin ominaisvektorit ja ominaisarvot\n",
    "\n",
    "Vektori $\\ket v$ on Matriisin $M$ ominaisvektori (eli ominaistila) ja skalaariluku $\\lambda$ ominaisvektoria vastaava ominaisarvo, jos\n",
    "\n",
    "$$\n",
    "M\\ket v =\\lambda \\ket v \n",
    "$$\n",
    "\n",
    "Tällöin vektorin $\\ket v$ Matriisilla $M$ kertominen on sama kuin kerroittaisiin vektori $\\ket v$ skalaariluvulla $\\lambda$. \n",
    "\n",
    "(Skalaariluku on tavallinen luku, joka ei ole vektori.)\n"
   ]
  },
  {
   "cell_type": "markdown",
   "metadata": {},
   "source": [
    "## Tehtävä 4: $Z$-portin matriisin ominaisvektorit eli kantavektorit\n",
    "\n",
    "$Z$-portin (ns. phase-flip gate) matriisiesitys oli seuraava:\n",
    "\n",
    "$$\n",
    "Z=  \\begin{pmatrix} 1 & 0 \\\\ 0 & -1 \\end{pmatrix}\n",
    "$$\n",
    "\n",
    "a) Osoita, että  $\\ket 0$ ja $\\ket 1$ ovat $Z$-portin ominaisvektoreita eli ominaistiloja, laskemalla $Z$-matriisin tulot:\n",
    "\n",
    "$$\n",
    "\\begin{aligned}\n",
    "Z\\ket 0 &= 1\\cdot \\ket 0 \\text{ja}\\\\\n",
    "Z\\ket 1 &= -1 \\cdot \\ket 1\n",
    "\\end{aligned}\n",
    "$$\n",
    "\n",
    "b) Tutki <a href=\"https://bloch.ollpu.fi/\" target=\"_blank\">havainnollistavan simulaation</a> avulla, miksi emme näe näitä kiertoja Blochin pallolla? Mitkä ovat $Z$-portin ominaistiloihin liittyvät ominaisarvot? Voit vastata lyhyellä lauseella, ei edellytä ohjelmointia.\n",
    "\n",
    "Koska $Z$-portilla ei ole vaikutusta kubittiin, joka on tilassa $\\ket 0$ tai $\\ket 1$, muodostavat nämä vektorit ns. $Z$-portin kannan. Kantavektorit ovat aina kaksi ortogonaalista (kohtisuoraa) vektoria, joiden avulla voidaan mikä tahansa Blochin pallolla esitetty kubitin tilavektori esittää lineaarikombinaationa. Kantavektorit voidaan valita hyvin monella eri tavalla, esimerkiksi myös c-kohdan $\\ket +$ ja $\\ket -$ vektorit muodostavat ortogonaalisen kannan. Esim. XY-tason yksikkövektorit $\\vec i$ ja $\\vec j$ ovat ortogonaalisia, koska niiden välinen pistetulo on nolla.\n",
    "\n",
    "> Huomaa, että ortogonaaliset tilavektorit ovat Blochin pallolla esitettynä vastakkaissuuntaisia eikä kohtisuoria.\n",
    "\n",
    "c) Kubittien tilat $\\ket +$ ja $\\ket -$ määritettiin\n",
    "$$\n",
    " \\ket + = \\frac{1}{\\sqrt 2} (\\ket 0 +  \\ket 1), \\\\\n",
    " \\ket - = \\frac{1}{\\sqrt 2} (\\ket 0 -  \\ket 1). \n",
    "$$\n",
    "\n",
    "\n",
    "\n",
    "Osoita, että $\\ket +$ ja $\\ket -$ ovat $X$-portin ominaistiloja ja siis kantavektoreita.\n",
    "\n",
    "d) Mitkä ovat näihin ominaistiloihin liittyvät ominaisarvot?\n",
    "\n",
    "e) Miten nämä kierrot ilmenevät Blochin pallolla? Tutki simulaation avulla tai ohjelmoimalla.\n"
   ]
  },
  {
   "cell_type": "code",
   "execution_count": null,
   "metadata": {},
   "outputs": [],
   "source": [
    "# a-kohta\n",
    "Z = np.matrix([[1, 0],[0, -1]])\n",
    "\n",
    "# määritellään pystyvektorina kubitin kvanttitila 0:\n",
    "q0 = np.matrix([[1],[0]])\n",
    "\n",
    "# määritellään pystyvektorina kubitin kvanttitila 1:\n",
    "q1 = np.matrix([[0],[1]])"
   ]
  },
  {
   "cell_type": "markdown",
   "metadata": {},
   "source": [
    "ilmoita b-kohdan vastaus tähän kommenttina tai markdown-tekstinä tuplaklikkaamalla"
   ]
  },
  {
   "cell_type": "code",
   "execution_count": null,
   "metadata": {},
   "outputs": [],
   "source": [
    "# vastaa c-kohta tähän koodina tai selityksenä\n",
    "\n"
   ]
  },
  {
   "cell_type": "code",
   "execution_count": null,
   "metadata": {},
   "outputs": [],
   "source": [
    "# vastaa d-kohta tähän koodina tai selityksenä\n",
    "\n"
   ]
  },
  {
   "cell_type": "code",
   "execution_count": null,
   "metadata": {},
   "outputs": [],
   "source": [
    "# vastaa e-kohta tähän koodina tai selityksenä\n",
    "\n"
   ]
  },
  {
   "cell_type": "markdown",
   "metadata": {},
   "source": [
    "## Tehtävä 5\n",
    "\n",
    "Tehtävät 1 - 4 käsittelivät yhden kubitin systeemiä. Seuraavassa kahdessa tehtävässä tarkastelemme controlled NOT eli $\\mathit{CNOT}$-porttia (toiselta nimeltä $CX$-portti), joka on kahden kubitin välinen operaatio. Kahden kubitin kvanttipiirissä systeemin tila esitetään seuraavilla kantavektoreilla:\n",
    "\n",
    "$$\n",
    "\\ket{00},\\ \\ket{01},\\ \\ket{10},\\ \\ket{11}, \n",
    "$$\n",
    "\n",
    "missä \n",
    "\n",
    "$$\n",
    "\\ket{00}=\\pmatrix{1 \\\\ 0 \\\\ 0 \\\\0},\\ \\ket{01}=\\pmatrix{0 \\\\ 1 \\\\ 0 \\\\0},\\ \n",
    "\\ket{10}=\\pmatrix{0 \\\\ 0 \\\\ 1 \\\\0},\\ \\ket{11}=\\pmatrix{0 \\\\ 0 \\\\ 0 \\\\1}.\n",
    "$$\n",
    "\n",
    "$\\mathit{CNOT}$-portin operoidessa ensimmäinen kubitti on ns. ohjaava kubitti (control qubit), ja jälkimmäinen on kohdekubitti (target qubit). $\\mathit{CNOT}$ vaikuttaa koko systeemin tilaan seuraavasti:\n",
    "\n",
    "$$\n",
    "\\ket{00} \\rightarrow  \\ket{00}   \\\\\n",
    "\\ket{01} \\rightarrow  \\ket{01}   \\\\\n",
    "\\ket{10} \\rightarrow  \\ket{11}   \\\\\n",
    "\\ket{11} \\rightarrow  \\ket{10}   \\\\\n",
    "$$\n",
    "\n",
    "Tulos tarkoittaa, että jos ensimmäinen, ns. ohjaava kubitti on $\\ket 0$, niin kohdekubitin tila ei muutu. Jos ohjaava kubitti on $\\ket 1$, niin kohdekubitin tila muuttuu. \n",
    "\n",
    "$\\mathit{CNOT}$-portin matriisiesitys on seuraava:\n",
    "\n",
    "$$\n",
    "\\mathit{CNOT} = \\pmatrix {1 & 0 & 0 & 0 \\\\ 0 & 1 & 0 & 0\\\\ 0 & 0 & 0 & 1 \\\\ 0 & 0 & 1 & 0} \n",
    "$$\n",
    "\n",
    "Huomaa, että vaikka matriisia merkitään monella kirjaimella, se ei ole monen matriisin tulo.\n",
    "\n",
    "Piirrosmerkki, jossa ylempänä esitetty kubitti on ohjaava, ja alempi toimii kohteena:\n",
    "\n",
    "![cnot](https://ollpu.fi/kvanttilaskenta-static/cnot.png)\n",
    "\n",
    "a) Laske $CNOT$-matriisin ja 2 kubitin tilaa kuvaavan pystyvektorin tulo, ja osoita että \n",
    "\n",
    "$$\n",
    "\\ket{01} \\rightarrow  \\ket{01} \\text{eli laske tulo  } \\mathit{CNOT} \\ket{01}  \\\\\n",
    "\\ket{10} \\rightarrow  \\ket{11}  \\text{eli laske tulo  } \\mathit{CNOT} \\ket{10} \\\\\n",
    "$$\n",
    "\n",
    "\n",
    "<a href=\"https://youtu.be/rLF-oHaXLtE\" target=\"_blank\">ohjevideo CNOT-portin toiminnasta</a>\n"
   ]
  },
  {
   "cell_type": "code",
   "execution_count": null,
   "metadata": {},
   "outputs": [],
   "source": [
    "# Ohjelmoi pythonilla tähän tai käytä Geogebraa\n",
    "import numpy as np\n",
    "\n",
    "CNOT = np.matrix([[1,0,0,0],[0,1,0,0], [0,0,0,1], [0,0,1,0]])\n",
    "\n",
    "# määritellään pystyvektorina kubitin kvanttitila |00>:\n",
    "q00 = np.matrix([[1],[0],[0],[0]])\n",
    "\n",
    "# määritellään pystyvektorina kubitin kvanttitila |01>:\n",
    "q01 = np.matrix([[0],[1],[0],[0]])\n",
    "\n",
    "# |10>\n",
    "q10 = np.matrix([[0],[0],[1],[0]])\n",
    "\n",
    "# |11>\n",
    "q11 = np.matrix([[0],[0],[1],[0]])\n",
    "\n",
    "# ohjelmoi a-kohta tähän\n",
    "\n"
   ]
  },
  {
   "cell_type": "markdown",
   "metadata": {},
   "source": [
    "b) Suorita alla olevat qiskit koodit, joiden avulla on ohjelmoitu kahden kubitin kvanttipiiri, jossa on $CNOT$-portti. Simuloi piiri, ja tunnista missä tilanteissa ohjaava kubitti vaihtaa kohdekubitin tilaa. Vertaa piirin toimintaa ket-merkintään:\n",
    " \n",
    " $$\n",
    "\\ket{01} \\rightarrow  \\ket{01} \\text{eli laske tulo  } \\mathit{CNOT} \\ket{01}  \\\\\n",
    "\\ket{10} \\rightarrow  \\ket{11}  \\text{eli laske tulo  } \\mathit{CNOT} \\ket{10} \\\\\n",
    "$$"
   ]
  },
  {
   "cell_type": "code",
   "execution_count": null,
   "metadata": {},
   "outputs": [],
   "source": [
    "# Valmis esimerkkikoodi tehtävään 1 suoritettavaksi.\n",
    "# Etene vaiheittain, suorita koodilohkot painamalla Run-nappia ylhäältä.\n",
    "\n",
    "from qiskit import *\n",
    "\n",
    "quantum_register = QuantumRegister(2)\n",
    "classical_register = ClassicalRegister(2)\n",
    "circuit = QuantumCircuit(quantum_register, classical_register)\n",
    "\n",
    "%matplotlib inline\n",
    "circuit.draw(output='mpl')"
   ]
  },
  {
   "cell_type": "code",
   "execution_count": null,
   "metadata": {},
   "outputs": [],
   "source": [
    "# Lisätään Hadamard-portti H \n",
    "circuit.x(quantum_register[0])\n",
    "circuit.h(quantum_register[0])\n",
    "circuit.draw(output='mpl')"
   ]
  },
  {
   "cell_type": "code",
   "execution_count": null,
   "metadata": {},
   "outputs": [],
   "source": [
    "# Lisätään kvanttipiiriin CNOT-portti cx()-komennolla\n",
    "circuit.cx(quantum_register[0], quantum_register[1])\n",
    "circuit.draw(output='mpl')"
   ]
  },
  {
   "cell_type": "code",
   "execution_count": null,
   "metadata": {},
   "outputs": [],
   "source": [
    "# Mitataan molemmat kubitit, ja tallennetaan tulokset klassiseen rekisteriin\n",
    "circuit.measure(quantum_register, classical_register)\n",
    "circuit.draw(output='mpl')"
   ]
  },
  {
   "cell_type": "code",
   "execution_count": null,
   "metadata": {},
   "outputs": [],
   "source": [
    "# Simuloidaan piirin toiminta.\n",
    "simulator = Aer.get_backend('qasm_simulator')\n",
    "execute(circuit, backend=simulator)\n",
    "result = execute(circuit, backend=simulator).result()\n",
    "from qiskit.visualization import plot_histogram\n",
    "plot_histogram(result.get_counts(circuit))"
   ]
  },
  {
   "cell_type": "markdown",
   "metadata": {},
   "source": [
    "## Vapaaehtoista lisämateriaalia, ei pakollinen: Tehtävä 3 b-kohdan vastauksen tulkintaa, kubitin tilavektori eri kannoissa:\n",
    "\n",
    "Tehtävän 3 b-kohdan vastaus on, että kolmen portin yhdistelmä $HZH$ voidaan korvata $X$-portilla:\n",
    "\n",
    "$X = HZH$\n",
    "\n",
    "Tulos tarkoittaa, että Z-kannassa (kantavektorien $\\ket 0$ ja $\\ket 1$) esitetty kubitti kuvautuu $H$-portilla X-kantaan (kantavektorit $\\ket +$ ja $\\ket -$), jossa $Z$-portti suorittaa NOT-operaation eli kantatilojen välillä vaihtamisen. Viimeinen $H$-portti kuvaa kubitin tilavektorin takaisin Z-kantaan. Sama matriisiesityksenä:\n",
    "\n",
    "![hzh.png](images/hzh.png)\n",
    "\n"
   ]
  },
  {
   "cell_type": "markdown",
   "metadata": {},
   "source": [
    "## Tilavektorin mittaaminen eri kannoissa\n",
    "\n",
    "Luodaan esimerkissä yhden kubitin kvanttipiiri ja asetetaan kubitti alkutilasta $\\ket 0$ operoimalla $H$-portilla tilojen \n",
    "$\\ket 0$ ja $\\ket 1$ superpositioon, jotka ovat siis käytettyjä kantavektoreita.\n",
    "$$\n",
    "H\\ket 0 = \\frac{1}{\\sqrt 2} (\\ket 0 +  \\ket 1)   \n",
    "$$"
   ]
  },
  {
   "cell_type": "code",
   "execution_count": null,
   "metadata": {},
   "outputs": [],
   "source": [
    "quantum_register = QuantumRegister(1)\n",
    "classical_register = ClassicalRegister(1)\n",
    "circuit = QuantumCircuit(quantum_register, classical_register)\n",
    "circuit.h(quantum_register)\n",
    "\n",
    "backend = Aer.get_backend('statevector_simulator')\n",
    "result = execute(qc,backend).result()\n",
    "out_state = result.get_statevector()\n",
    "#piirretään tilavektori\n",
    "print(out_state)\n",
    "\n",
    "circuit.draw(output='mpl')"
   ]
  },
  {
   "cell_type": "markdown",
   "metadata": {},
   "source": [
    "Tulostus kertoo, että kubitin tilavektorin kantavektorien $\\ket 0$ ja $\\ket 1$ kertoimet 0.707 ovat luvun $\\frac{1}{\\sqrt{2}}$ likiarvoja. Jos kahden vektorin $\\ket 0$ ja $\\ket 1$ superpositiotila mitataan, niin kubitin lopputilaksi valikoituu 50%:n todennäköisyydellä jompi kumpi klassinen bitti 0 tai 1:\n",
    "\n",
    "$$\n",
    "P(0)=P(1)=(\\frac{1}{\\sqrt{2}})^2=\\frac{1}{2}\n",
    "$$\n",
    "\n",
    "Mittausten mahdollisten lopputulosten todennäköisyyksien summa on 1: $P(0)+P(1)=1$\n",
    "\n",
    "Mitataan kubitin tila ja simuloidaan kvanttipiirin toiminta,ja verrataan tuloksia."
   ]
  },
  {
   "cell_type": "code",
   "execution_count": null,
   "metadata": {},
   "outputs": [],
   "source": [
    "# Huomaa, että On myös mahdollista piirtää tilojen 0 ja 1 yhdistelmä eli superpositiotila\n",
    "from qiskit.visualization import plot_bloch_multivector\n",
    "plot_bloch_multivector(out_state)"
   ]
  },
  {
   "cell_type": "code",
   "execution_count": null,
   "metadata": {},
   "outputs": [],
   "source": [
    "circuit.measure(quantum_register, classical_register)\n",
    "simulator = Aer.get_backend('qasm_simulator')\n",
    "result = execute(circuit, backend=simulator).result()\n",
    "from qiskit.visualization import plot_histogram\n",
    "plot_histogram(result.get_counts(circuit))"
   ]
  },
  {
   "cell_type": "markdown",
   "metadata": {},
   "source": [
    "## Vapaaehtoinen lisätehtävä 6, ei kuulu palautettaviin\n",
    "a) Luo yhden kubitin kvanttipiiri ja aseta kubitin alkutilaksi $\\ket 1$. Mikä on todennäköisyys havaita kubitti tilassa $\\ket +$? Entä $\\ket -$?\n",
    "\n",
    "b) Jos kubitin alkutilaksi määritetään $\\ket +$, niin mikä todennäköisyys havaita mittauksessa tila $\\ket -$? Entä tila $\\ket +$?\n",
    "\n"
   ]
  },
  {
   "cell_type": "code",
   "execution_count": null,
   "metadata": {},
   "outputs": [],
   "source": [
    "# koodaa tähän\n",
    "\n"
   ]
  }
 ],
 "metadata": {
  "kernelspec": {
   "display_name": "Python 3 (ipykernel)",
   "language": "python",
   "name": "python3"
  },
  "language_info": {
   "codemirror_mode": {
    "name": "ipython",
    "version": 3
   },
   "file_extension": ".py",
   "mimetype": "text/x-python",
   "name": "python",
   "nbconvert_exporter": "python",
   "pygments_lexer": "ipython3",
   "version": "3.10.0"
  }
 },
 "nbformat": 4,
 "nbformat_minor": 4
}
